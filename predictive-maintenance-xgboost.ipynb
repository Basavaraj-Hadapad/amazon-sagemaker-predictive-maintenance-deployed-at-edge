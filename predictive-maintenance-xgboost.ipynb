{
 "cells": [
  {
   "cell_type": "markdown",
   "metadata": {},
   "source": [
    "<h1> Predictive Maintainance MVP"
   ]
  },
  {
   "cell_type": "markdown",
   "metadata": {},
   "source": [
    "In this notebook we train an ML model to predict whether a part is faulty or not based on sensor readings from the part. For training, we use a dataset which is adapted from a real predictive maintenance use case. The columns and rows have been anonymized, but the overall statistics of the dataset has been preserved. This will allow you to see some of the typical challenges that arise when dealing with ML for predictive maintenance.\n",
    "\n",
    "We will go over the key aspects of a typical data science pipeline:\n",
    "\n",
    "1. data ingest\n",
    "2. data exploration <br/>\n",
    "3. model training <br/>\n",
    "4. model deployment <br/>\n",
    "\n",
    "Here we train an XGBoost model, using Amazon SageMaker's built in algorithms to predict whether a part is faulty or not in assembly line for predictive maintainance. Once the faulty part is found, it will be removed from the line and taken for repair.\n",
    "\n",
    "Instead of deploying a live endpoint here, we will deploy the model locally on the Greengrass core. But to test the model, we will test the model predictions on a test dataset and plot relevant metrics."
   ]
  },
  {
   "cell_type": "markdown",
   "metadata": {},
   "source": [
    "<h2> Import libraries and get data into dataframe"
   ]
  },
  {
   "cell_type": "code",
   "execution_count": 1,
   "metadata": {},
   "outputs": [
    {
     "name": "stdout",
     "output_type": "stream",
     "text": [
      "arn:aws:iam::389535300735:role/service-role/AmazonSageMaker-ExecutionRole-20190823T110499\n"
     ]
    }
   ],
   "source": [
    "import sagemaker\n",
    "import numpy as np\n",
    "import os\n",
    "import json\n",
    "\n",
    "sagemaker_session = sagemaker.Session()\n",
    "bucket = None #Replace with the bucket name created for you by CloudFormation\n",
    "prefix = 'xgbdata'\n",
    "LOCAL_DIR = 'training_data'\n",
    "role = sagemaker.get_execution_role()\n",
    "print(role)"
   ]
  },
  {
   "cell_type": "code",
   "execution_count": 5,
   "metadata": {
    "scrolled": true
   },
   "outputs": [
    {
     "name": "stdout",
     "output_type": "stream",
     "text": [
      "s3://iot-ml-predictive-maintenance/xgb\n"
     ]
    }
   ],
   "source": [
    "# Path to upload the trained model\n",
    "xgb_upload_location = os.path.join('s3://{}/{}'.format(bucket, 'xgb'))\n",
    "print(xgb_upload_location)"
   ]
  },
  {
   "cell_type": "code",
   "execution_count": 6,
   "metadata": {},
   "outputs": [
    {
     "name": "stdout",
     "output_type": "stream",
     "text": [
      "811284229777.dkr.ecr.us-east-1.amazonaws.com/xgboost:1\n"
     ]
    }
   ],
   "source": [
    "# Grab the latest XGBoost container from ECR\n",
    "region = 'us-east-1'\n",
    "from sagemaker.amazon.amazon_estimator import get_image_uri\n",
    "container = get_image_uri(region, 'xgboost')\n",
    "print(container)"
   ]
  },
  {
   "cell_type": "code",
   "execution_count": 7,
   "metadata": {},
   "outputs": [],
   "source": [
    "# The training data doesn't have any column name headers so lets include those first\n",
    "with open('cols.txt', 'r') as f:\n",
    "    cols = json.load(f)"
   ]
  },
  {
   "cell_type": "code",
   "execution_count": 8,
   "metadata": {},
   "outputs": [],
   "source": [
    "# Read the data directly locally\n",
    "import pandas as pd\n",
    "\n",
    "DATANAME = 'train.csv'\n",
    "\n",
    "datorig = pd.read_csv('{}/{}'.format(LOCAL_DIR, DATANAME), names = cols)"
   ]
  },
  {
   "cell_type": "code",
   "execution_count": 9,
   "metadata": {},
   "outputs": [
    {
     "data": {
      "text/html": [
       "<div>\n",
       "<style scoped>\n",
       "    .dataframe tbody tr th:only-of-type {\n",
       "        vertical-align: middle;\n",
       "    }\n",
       "\n",
       "    .dataframe tbody tr th {\n",
       "        vertical-align: top;\n",
       "    }\n",
       "\n",
       "    .dataframe thead th {\n",
       "        text-align: right;\n",
       "    }\n",
       "</style>\n",
       "<table border=\"1\" class=\"dataframe\">\n",
       "  <thead>\n",
       "    <tr style=\"text-align: right;\">\n",
       "      <th></th>\n",
       "      <th>Response</th>\n",
       "      <th>Sensor_1</th>\n",
       "      <th>Sensor_2</th>\n",
       "      <th>Sensor_3</th>\n",
       "      <th>Sensor_4</th>\n",
       "      <th>Sensor_5</th>\n",
       "      <th>Sensor_6</th>\n",
       "      <th>Sensor_7</th>\n",
       "      <th>Sensor_8</th>\n",
       "      <th>Sensor_9</th>\n",
       "      <th>...</th>\n",
       "      <th>Sensor_159</th>\n",
       "      <th>Sensor_160</th>\n",
       "      <th>Sensor_161</th>\n",
       "      <th>Sensor_162</th>\n",
       "      <th>Sensor_163</th>\n",
       "      <th>Sensor_164</th>\n",
       "      <th>Sensor_165</th>\n",
       "      <th>Sensor_166</th>\n",
       "      <th>Sensor_167</th>\n",
       "      <th>Sensor_168</th>\n",
       "    </tr>\n",
       "  </thead>\n",
       "  <tbody>\n",
       "    <tr>\n",
       "      <th>0</th>\n",
       "      <td>0</td>\n",
       "      <td>0.056</td>\n",
       "      <td>0.041</td>\n",
       "      <td>-0.179</td>\n",
       "      <td>-0.179</td>\n",
       "      <td>-0.056</td>\n",
       "      <td>0.070</td>\n",
       "      <td>-0.022</td>\n",
       "      <td>-0.072</td>\n",
       "      <td>-0.077</td>\n",
       "      <td>...</td>\n",
       "      <td>0.000</td>\n",
       "      <td>0.000</td>\n",
       "      <td>0.000</td>\n",
       "      <td>0.000</td>\n",
       "      <td>0.000</td>\n",
       "      <td>0.000</td>\n",
       "      <td>0.000</td>\n",
       "      <td>0.000</td>\n",
       "      <td>0.00</td>\n",
       "      <td>0.000</td>\n",
       "    </tr>\n",
       "    <tr>\n",
       "      <th>1</th>\n",
       "      <td>0</td>\n",
       "      <td>-0.042</td>\n",
       "      <td>-0.086</td>\n",
       "      <td>0.294</td>\n",
       "      <td>0.312</td>\n",
       "      <td>-0.100</td>\n",
       "      <td>0.025</td>\n",
       "      <td>0.022</td>\n",
       "      <td>0.168</td>\n",
       "      <td>0.097</td>\n",
       "      <td>...</td>\n",
       "      <td>0.000</td>\n",
       "      <td>0.000</td>\n",
       "      <td>0.000</td>\n",
       "      <td>0.000</td>\n",
       "      <td>0.000</td>\n",
       "      <td>0.000</td>\n",
       "      <td>0.000</td>\n",
       "      <td>0.000</td>\n",
       "      <td>0.00</td>\n",
       "      <td>0.000</td>\n",
       "    </tr>\n",
       "    <tr>\n",
       "      <th>2</th>\n",
       "      <td>0</td>\n",
       "      <td>0.115</td>\n",
       "      <td>0.071</td>\n",
       "      <td>-0.179</td>\n",
       "      <td>-0.179</td>\n",
       "      <td>0.161</td>\n",
       "      <td>0.025</td>\n",
       "      <td>-0.030</td>\n",
       "      <td>-0.112</td>\n",
       "      <td>0.041</td>\n",
       "      <td>...</td>\n",
       "      <td>0.000</td>\n",
       "      <td>0.000</td>\n",
       "      <td>0.000</td>\n",
       "      <td>0.000</td>\n",
       "      <td>0.000</td>\n",
       "      <td>0.000</td>\n",
       "      <td>0.000</td>\n",
       "      <td>0.000</td>\n",
       "      <td>0.00</td>\n",
       "      <td>-0.094</td>\n",
       "    </tr>\n",
       "    <tr>\n",
       "      <th>3</th>\n",
       "      <td>0</td>\n",
       "      <td>0.000</td>\n",
       "      <td>0.000</td>\n",
       "      <td>0.000</td>\n",
       "      <td>0.000</td>\n",
       "      <td>0.000</td>\n",
       "      <td>0.000</td>\n",
       "      <td>0.000</td>\n",
       "      <td>0.000</td>\n",
       "      <td>0.000</td>\n",
       "      <td>...</td>\n",
       "      <td>0.000</td>\n",
       "      <td>0.000</td>\n",
       "      <td>0.000</td>\n",
       "      <td>0.000</td>\n",
       "      <td>0.000</td>\n",
       "      <td>0.000</td>\n",
       "      <td>0.000</td>\n",
       "      <td>0.000</td>\n",
       "      <td>0.00</td>\n",
       "      <td>0.000</td>\n",
       "    </tr>\n",
       "    <tr>\n",
       "      <th>4</th>\n",
       "      <td>0</td>\n",
       "      <td>-0.042</td>\n",
       "      <td>-0.101</td>\n",
       "      <td>-0.052</td>\n",
       "      <td>-0.052</td>\n",
       "      <td>0.118</td>\n",
       "      <td>0.025</td>\n",
       "      <td>0.008</td>\n",
       "      <td>0.088</td>\n",
       "      <td>0.102</td>\n",
       "      <td>...</td>\n",
       "      <td>0.000</td>\n",
       "      <td>0.000</td>\n",
       "      <td>0.000</td>\n",
       "      <td>0.000</td>\n",
       "      <td>0.000</td>\n",
       "      <td>0.000</td>\n",
       "      <td>0.000</td>\n",
       "      <td>0.000</td>\n",
       "      <td>0.00</td>\n",
       "      <td>0.000</td>\n",
       "    </tr>\n",
       "    <tr>\n",
       "      <th>5</th>\n",
       "      <td>0</td>\n",
       "      <td>0.000</td>\n",
       "      <td>0.000</td>\n",
       "      <td>0.000</td>\n",
       "      <td>0.000</td>\n",
       "      <td>0.000</td>\n",
       "      <td>0.000</td>\n",
       "      <td>0.000</td>\n",
       "      <td>0.000</td>\n",
       "      <td>0.000</td>\n",
       "      <td>...</td>\n",
       "      <td>0.124</td>\n",
       "      <td>0.157</td>\n",
       "      <td>0.014</td>\n",
       "      <td>0.018</td>\n",
       "      <td>-0.263</td>\n",
       "      <td>0.045</td>\n",
       "      <td>-0.422</td>\n",
       "      <td>-0.027</td>\n",
       "      <td>0.00</td>\n",
       "      <td>0.000</td>\n",
       "    </tr>\n",
       "    <tr>\n",
       "      <th>6</th>\n",
       "      <td>0</td>\n",
       "      <td>0.010</td>\n",
       "      <td>0.026</td>\n",
       "      <td>-0.197</td>\n",
       "      <td>-0.197</td>\n",
       "      <td>-0.013</td>\n",
       "      <td>-0.021</td>\n",
       "      <td>-0.015</td>\n",
       "      <td>-0.072</td>\n",
       "      <td>0.173</td>\n",
       "      <td>...</td>\n",
       "      <td>0.000</td>\n",
       "      <td>0.000</td>\n",
       "      <td>0.000</td>\n",
       "      <td>0.000</td>\n",
       "      <td>0.000</td>\n",
       "      <td>0.000</td>\n",
       "      <td>0.000</td>\n",
       "      <td>0.000</td>\n",
       "      <td>0.00</td>\n",
       "      <td>0.000</td>\n",
       "    </tr>\n",
       "    <tr>\n",
       "      <th>7</th>\n",
       "      <td>0</td>\n",
       "      <td>-0.068</td>\n",
       "      <td>0.004</td>\n",
       "      <td>-0.197</td>\n",
       "      <td>-0.161</td>\n",
       "      <td>0.031</td>\n",
       "      <td>-0.066</td>\n",
       "      <td>0.008</td>\n",
       "      <td>-0.072</td>\n",
       "      <td>-0.046</td>\n",
       "      <td>...</td>\n",
       "      <td>0.000</td>\n",
       "      <td>0.000</td>\n",
       "      <td>0.000</td>\n",
       "      <td>0.000</td>\n",
       "      <td>0.000</td>\n",
       "      <td>0.000</td>\n",
       "      <td>0.000</td>\n",
       "      <td>0.000</td>\n",
       "      <td>-0.07</td>\n",
       "      <td>0.000</td>\n",
       "    </tr>\n",
       "    <tr>\n",
       "      <th>8</th>\n",
       "      <td>0</td>\n",
       "      <td>-0.016</td>\n",
       "      <td>-0.056</td>\n",
       "      <td>-0.033</td>\n",
       "      <td>-0.016</td>\n",
       "      <td>0.074</td>\n",
       "      <td>0.116</td>\n",
       "      <td>0.008</td>\n",
       "      <td>0.048</td>\n",
       "      <td>-0.123</td>\n",
       "      <td>...</td>\n",
       "      <td>0.000</td>\n",
       "      <td>0.000</td>\n",
       "      <td>0.000</td>\n",
       "      <td>0.000</td>\n",
       "      <td>0.000</td>\n",
       "      <td>0.000</td>\n",
       "      <td>0.000</td>\n",
       "      <td>0.000</td>\n",
       "      <td>0.00</td>\n",
       "      <td>0.000</td>\n",
       "    </tr>\n",
       "    <tr>\n",
       "      <th>9</th>\n",
       "      <td>0</td>\n",
       "      <td>0.016</td>\n",
       "      <td>0.026</td>\n",
       "      <td>-0.179</td>\n",
       "      <td>-0.179</td>\n",
       "      <td>0.118</td>\n",
       "      <td>0.025</td>\n",
       "      <td>-0.015</td>\n",
       "      <td>-0.072</td>\n",
       "      <td>0.010</td>\n",
       "      <td>...</td>\n",
       "      <td>0.000</td>\n",
       "      <td>0.000</td>\n",
       "      <td>0.000</td>\n",
       "      <td>0.000</td>\n",
       "      <td>0.000</td>\n",
       "      <td>0.000</td>\n",
       "      <td>0.000</td>\n",
       "      <td>0.000</td>\n",
       "      <td>0.00</td>\n",
       "      <td>0.000</td>\n",
       "    </tr>\n",
       "  </tbody>\n",
       "</table>\n",
       "<p>10 rows × 169 columns</p>\n",
       "</div>"
      ],
      "text/plain": [
       "   Response  Sensor_1  Sensor_2  Sensor_3  Sensor_4  Sensor_5  Sensor_6  \\\n",
       "0         0     0.056     0.041    -0.179    -0.179    -0.056     0.070   \n",
       "1         0    -0.042    -0.086     0.294     0.312    -0.100     0.025   \n",
       "2         0     0.115     0.071    -0.179    -0.179     0.161     0.025   \n",
       "3         0     0.000     0.000     0.000     0.000     0.000     0.000   \n",
       "4         0    -0.042    -0.101    -0.052    -0.052     0.118     0.025   \n",
       "5         0     0.000     0.000     0.000     0.000     0.000     0.000   \n",
       "6         0     0.010     0.026    -0.197    -0.197    -0.013    -0.021   \n",
       "7         0    -0.068     0.004    -0.197    -0.161     0.031    -0.066   \n",
       "8         0    -0.016    -0.056    -0.033    -0.016     0.074     0.116   \n",
       "9         0     0.016     0.026    -0.179    -0.179     0.118     0.025   \n",
       "\n",
       "   Sensor_7  Sensor_8  Sensor_9  ...  Sensor_159  Sensor_160  Sensor_161  \\\n",
       "0    -0.022    -0.072    -0.077  ...       0.000       0.000       0.000   \n",
       "1     0.022     0.168     0.097  ...       0.000       0.000       0.000   \n",
       "2    -0.030    -0.112     0.041  ...       0.000       0.000       0.000   \n",
       "3     0.000     0.000     0.000  ...       0.000       0.000       0.000   \n",
       "4     0.008     0.088     0.102  ...       0.000       0.000       0.000   \n",
       "5     0.000     0.000     0.000  ...       0.124       0.157       0.014   \n",
       "6    -0.015    -0.072     0.173  ...       0.000       0.000       0.000   \n",
       "7     0.008    -0.072    -0.046  ...       0.000       0.000       0.000   \n",
       "8     0.008     0.048    -0.123  ...       0.000       0.000       0.000   \n",
       "9    -0.015    -0.072     0.010  ...       0.000       0.000       0.000   \n",
       "\n",
       "   Sensor_162  Sensor_163  Sensor_164  Sensor_165  Sensor_166  Sensor_167  \\\n",
       "0       0.000       0.000       0.000       0.000       0.000        0.00   \n",
       "1       0.000       0.000       0.000       0.000       0.000        0.00   \n",
       "2       0.000       0.000       0.000       0.000       0.000        0.00   \n",
       "3       0.000       0.000       0.000       0.000       0.000        0.00   \n",
       "4       0.000       0.000       0.000       0.000       0.000        0.00   \n",
       "5       0.018      -0.263       0.045      -0.422      -0.027        0.00   \n",
       "6       0.000       0.000       0.000       0.000       0.000        0.00   \n",
       "7       0.000       0.000       0.000       0.000       0.000       -0.07   \n",
       "8       0.000       0.000       0.000       0.000       0.000        0.00   \n",
       "9       0.000       0.000       0.000       0.000       0.000        0.00   \n",
       "\n",
       "   Sensor_168  \n",
       "0       0.000  \n",
       "1       0.000  \n",
       "2      -0.094  \n",
       "3       0.000  \n",
       "4       0.000  \n",
       "5       0.000  \n",
       "6       0.000  \n",
       "7       0.000  \n",
       "8       0.000  \n",
       "9       0.000  \n",
       "\n",
       "[10 rows x 169 columns]"
      ]
     },
     "execution_count": 9,
     "metadata": {},
     "output_type": "execute_result"
    }
   ],
   "source": [
    "datorig.head(10)"
   ]
  },
  {
   "cell_type": "markdown",
   "metadata": {},
   "source": [
    "The data consists of 2 parts:\n",
    "\n",
    "1. Response: this is the faulty (1) or not faulty (0) signal. <br/>\n",
    "2. Sensor readings: the remaining 168 columns correspond to Sensor readings.\n",
    "\n",
    "Note the large number of 0s in the dataset. This is because not all sensors fire at the same time, and each reading only comes from a subset of the sensors. "
   ]
  },
  {
   "cell_type": "markdown",
   "metadata": {},
   "source": [
    "<h2> Data Exploration"
   ]
  },
  {
   "cell_type": "markdown",
   "metadata": {},
   "source": [
    "Before building an ML model, let's go ahead and explore the dataset and look for some correlations."
   ]
  },
  {
   "cell_type": "code",
   "execution_count": 10,
   "metadata": {},
   "outputs": [],
   "source": [
    "import seaborn as sns\n",
    "import matplotlib.pyplot as plt\n",
    "%matplotlib inline"
   ]
  },
  {
   "cell_type": "markdown",
   "metadata": {},
   "source": [
    "### Class Imbalance\n",
    "One of the first things you notice in predictive maintenance is CLASS IMBALANCE.\n",
    "\n",
    "CLASS IMBALANCE occurs when one class (in this case faulty labels) is much less prevalent than the not faulty label.\n",
    "\n",
    "This is a problem for ML models as this means that the model may not see enough examples of the faulty class to train accurately. Seen another way, this means that a model that always predicts a label to be not faulty is 90.8% accurate!\n",
    "\n",
    "Our ML model will need to beat this accuracy to be useful from a business perspective. There are a number of ways for dealing with imbalanced classification problems -- upsampling, downsampling, SMOTE to name a few. For this POC we will not use these approaches and train a minimal viable model"
   ]
  },
  {
   "cell_type": "code",
   "execution_count": 22,
   "metadata": {},
   "outputs": [
    {
     "name": "stdout",
     "output_type": "stream",
     "text": [
      "Percent of Faulty Examples = 10.2\n"
     ]
    },
    {
     "data": {
      "image/png": "[encoded data removed]",
      "text/plain": [
       "<Figure size 432x288 with 1 Axes>"
      ]
     },
     "metadata": {},
     "output_type": "display_data"
    }
   ],
   "source": [
    "sns.countplot(datorig.Response)\n",
    "print(\"Percent of Faulty Examples = {:.1f}\".format(len(datorig[datorig['Response']==1])/len(datorig)*100))"
   ]
  },
  {
   "cell_type": "markdown",
   "metadata": {},
   "source": [
    "### Correlations\n",
    "\n",
    "Next let's extract some correlations between the Response label and the Sensor features. Since we have so many features, we can plot a heatmap for the correlations."
   ]
  },
  {
   "cell_type": "code",
   "execution_count": 27,
   "metadata": {},
   "outputs": [
    {
     "data": {
      "image/png": "[encoded data removed]",
      "text/plain": [
       "<Figure size 720x720 with 2 Axes>"
      ]
     },
     "metadata": {},
     "output_type": "display_data"
    }
   ],
   "source": [
    "corr = datorig.corr()\n",
    "\n",
    "plt.figure(figsize= (10, 10))\n",
    "sns.heatmap(np.abs(corr))\n",
    "plt.show()"
   ]
  },
  {
   "cell_type": "markdown",
   "metadata": {},
   "source": [
    "Look at the correlation heatmap above: what do you notice?\n",
    "\n",
    "There are striking blocks of high correlations amidst relatively little correlations between other features. \n",
    "Physically these blocks could be sensors that are all firing at once on a single assembly line, or assigned to a single part. Our ML model must be able to deal with these strong and weak correlations well. A linear model may not be able to perform well when features are strongly correlated. For this reason, we choose a tree based gradient boosting model like XGBoost.\n",
    "\n",
    "Traditionally, we might want to consider methods like PCA to perform some dimensionality reduction, but this comes at a cost of interpretability. In our factory, we want to determine which sensor is giving the anomalous signal corresponding to the faulty part, and PCA will mix the sensor signals together. "
   ]
  },
  {
   "cell_type": "code",
   "execution_count": 29,
   "metadata": {},
   "outputs": [],
   "source": [
    "# identify what sensors correlate strongly with the faulty label\n",
    "index_list = list(corr['Response'].dropna().index)\n",
    "val_list = np.argsort(np.abs(corr['Response'].dropna().values))[::-1]"
   ]
  },
  {
   "cell_type": "code",
   "execution_count": 46,
   "metadata": {},
   "outputs": [
    {
     "data": {
      "text/plain": [
       "['Response', 'Sensor_79', 'Sensor_76', 'Sensor_35', 'Sensor_36']"
      ]
     },
     "execution_count": 46,
     "metadata": {},
     "output_type": "execute_result"
    }
   ],
   "source": [
    "# Get most corelated variables to the Response label. The response variable is ofcourse most correlated with itself \n",
    "#and removed\n",
    "top_corrs = [index_list[x] for x in val_list[:5]]\n",
    "top_corrs"
   ]
  },
  {
   "cell_type": "code",
   "execution_count": 47,
   "metadata": {},
   "outputs": [
    {
     "data": {
      "text/html": [
       "<div>\n",
       "<style scoped>\n",
       "    .dataframe tbody tr th:only-of-type {\n",
       "        vertical-align: middle;\n",
       "    }\n",
       "\n",
       "    .dataframe tbody tr th {\n",
       "        vertical-align: top;\n",
       "    }\n",
       "\n",
       "    .dataframe thead th {\n",
       "        text-align: right;\n",
       "    }\n",
       "</style>\n",
       "<table border=\"1\" class=\"dataframe\">\n",
       "  <thead>\n",
       "    <tr style=\"text-align: right;\">\n",
       "      <th></th>\n",
       "      <th>Response</th>\n",
       "      <th>Sensor_79</th>\n",
       "      <th>Sensor_76</th>\n",
       "      <th>Sensor_35</th>\n",
       "      <th>Sensor_36</th>\n",
       "    </tr>\n",
       "  </thead>\n",
       "  <tbody>\n",
       "    <tr>\n",
       "      <th>0</th>\n",
       "      <td>0</td>\n",
       "      <td>0.000</td>\n",
       "      <td>0.000</td>\n",
       "      <td>0.000</td>\n",
       "      <td>0.000</td>\n",
       "    </tr>\n",
       "    <tr>\n",
       "      <th>1</th>\n",
       "      <td>0</td>\n",
       "      <td>-0.028</td>\n",
       "      <td>-0.004</td>\n",
       "      <td>0.115</td>\n",
       "      <td>-0.083</td>\n",
       "    </tr>\n",
       "    <tr>\n",
       "      <th>2</th>\n",
       "      <td>0</td>\n",
       "      <td>0.071</td>\n",
       "      <td>0.011</td>\n",
       "      <td>0.000</td>\n",
       "      <td>0.000</td>\n",
       "    </tr>\n",
       "    <tr>\n",
       "      <th>3</th>\n",
       "      <td>0</td>\n",
       "      <td>0.000</td>\n",
       "      <td>0.000</td>\n",
       "      <td>0.000</td>\n",
       "      <td>0.000</td>\n",
       "    </tr>\n",
       "    <tr>\n",
       "      <th>4</th>\n",
       "      <td>0</td>\n",
       "      <td>0.000</td>\n",
       "      <td>0.000</td>\n",
       "      <td>0.000</td>\n",
       "      <td>0.000</td>\n",
       "    </tr>\n",
       "  </tbody>\n",
       "</table>\n",
       "</div>"
      ],
      "text/plain": [
       "   Response  Sensor_79  Sensor_76  Sensor_35  Sensor_36\n",
       "0         0      0.000      0.000      0.000      0.000\n",
       "1         0     -0.028     -0.004      0.115     -0.083\n",
       "2         0      0.071      0.011      0.000      0.000\n",
       "3         0      0.000      0.000      0.000      0.000\n",
       "4         0      0.000      0.000      0.000      0.000"
      ]
     },
     "execution_count": 47,
     "metadata": {},
     "output_type": "execute_result"
    }
   ],
   "source": [
    "reduceddat = datorig[top_corrs]\n",
    "reduceddat.head()"
   ]
  },
  {
   "cell_type": "code",
   "execution_count": 49,
   "metadata": {},
   "outputs": [
    {
     "data": {
      "image/png": "[encoded data removed]",
      "text/plain": [
       "<Figure size 956.25x900 with 30 Axes>"
      ]
     },
     "metadata": {},
     "output_type": "display_data"
    }
   ],
   "source": [
    "# Plot how the top correlated sensor readings are correlated with each other and the Faulty and Not Faulty Labels\n",
    "g = sns.PairGrid(reduceddat, hue=\"Response\")\n",
    "g.map_diag(plt.hist)\n",
    "g.map_offdiag(plt.scatter)\n",
    "g.add_legend()\n",
    "plt.show()"
   ]
  },
  {
   "cell_type": "markdown",
   "metadata": {},
   "source": [
    "<h2> Model Training and Deployment"
   ]
  },
  {
   "cell_type": "markdown",
   "metadata": {},
   "source": [
    "Having explored the dataset some, we can now build a model.\n",
    "Our guiding principles for Model choice are as follows:\n",
    "\n",
    "1. There are multiple sensors with weak correlations to the final output variable <br/>\n",
    "2. Outputs are highly skewed and imbalanced, so our baseline model already has 90% accuracy. The ML model will need to do better to drive business value <br/>\n",
    "3. Sensor data may itself be correlated with each other and not all sensors may fire at once <br/>\n",
    "\n",
    "A linear model may not work as well in this situation as the outputs are imbalanced and in real life sensor data may be highly correlated. For this reason, we choose a gradient boosting based tree model called XGBoost. \n",
    "\n",
    "SageMaker has a built in implementation of the XGBoost algorithm designed to work at scale. The default data type for XGBoost is LIBSVM format. But our data is in csv and XGBoost also accepts a csv input but it needs to be specified in the 'content_type' variable. We do this first.\n",
    "\n",
    "Next we train a model: This should take less than 5 minutes and incur about 50 seconds of training cost. Remember that SageMaker charges you for the time it takes the train and the infrastructure you train on. There are no upfront charges or recurring costs. Once training is complete, SageMaker tears it down automatically."
   ]
  },
  {
   "cell_type": "code",
   "execution_count": 50,
   "metadata": {},
   "outputs": [],
   "source": [
    "# NExt we need to push the training and test data to S3\n",
    "train_channel = prefix + '/train'\n",
    "validation_channel = prefix + '/validation'\n",
    "\n",
    "sagemaker_session.upload_data(path='training_data', bucket=bucket, key_prefix=train_channel)\n",
    "sagemaker_session.upload_data(path='test_data', bucket=bucket, key_prefix=validation_channel)\n",
    "\n",
    "#s3_train_data = 's3://{}/{}'.format(bucket, train_channel)\n",
    "#s3_validation_data = 's3://{}/{}'.format(bucket, validation_channel)\n",
    "s3_train_channel = sagemaker.session.s3_input('s3://{}/{}'.format(bucket, train_channel), content_type ='csv')\n",
    "s3_valid_channel = sagemaker.session.s3_input('s3://{}/{}'.format(bucket, validation_channel), content_type ='csv')\n"
   ]
  },
  {
   "cell_type": "code",
   "execution_count": 52,
   "metadata": {},
   "outputs": [
    {
     "name": "stdout",
     "output_type": "stream",
     "text": [
      "2019-09-27 19:32:07 Starting - Starting the training job...\n",
      "2019-09-27 19:32:11 Starting - Launching requested ML instances......\n",
      "2019-09-27 19:33:14 Starting - Preparing the instances for training...\n",
      "2019-09-27 19:34:07 Downloading - Downloading input data...\n",
      "2019-09-27 19:34:29 Training - Downloading the training image..\n",
      "\u001b[31mArguments: train\u001b[0m\n",
      "\u001b[31m[2019-09-27:19:34:42:INFO] Running standalone xgboost training.\u001b[0m\n",
      "\u001b[31m[2019-09-27:19:34:42:INFO] File size need to be processed in the node: 8.46mb. Available memory size in the node: 52413.89mb\u001b[0m\n",
      "\u001b[31m[2019-09-27:19:34:42:INFO] Determined delimiter of CSV input is ','\u001b[0m\n",
      "\u001b[31m[19:34:42] S3DistributionType set as FullyReplicated\u001b[0m\n",
      "\u001b[31m[19:34:42] 8848x168 matrix with 1486464 entries loaded from /opt/ml/input/data/train?format=csv&label_column=0&delimiter=,\u001b[0m\n",
      "\u001b[31m[2019-09-27:19:34:42:INFO] Determined delimiter of CSV input is ','\u001b[0m\n",
      "\u001b[31m[19:34:42] S3DistributionType set as FullyReplicated\u001b[0m\n",
      "\u001b[31m[19:34:42] 2212x168 matrix with 371616 entries loaded from /opt/ml/input/data/validation?format=csv&label_column=0&delimiter=,\u001b[0m\n",
      "\u001b[31m[19:34:42] src/tree/updater_prune.cc:74: tree pruning end, 1 roots, 18 extra nodes, 0 pruned nodes, max_depth=5\u001b[0m\n",
      "\u001b[31m[0]#011train-error:0.089399#011validation-error:0.089512\u001b[0m\n",
      "\u001b[31m[19:34:42] src/tree/updater_prune.cc:74: tree pruning end, 1 roots, 20 extra nodes, 2 pruned nodes, max_depth=5\u001b[0m\n",
      "\u001b[31m[1]#011train-error:0.081035#011validation-error:0.078662\u001b[0m\n",
      "\u001b[31m[19:34:42] src/tree/updater_prune.cc:74: tree pruning end, 1 roots, 30 extra nodes, 0 pruned nodes, max_depth=5\u001b[0m\n",
      "\u001b[31m[2]#011train-error:0.086347#011validation-error:0.086347\u001b[0m\n",
      "\u001b[31m[19:34:42] src/tree/updater_prune.cc:74: tree pruning end, 1 roots, 28 extra nodes, 0 pruned nodes, max_depth=5\u001b[0m\n",
      "\u001b[31m[3]#011train-error:0.081035#011validation-error:0.082278\u001b[0m\n",
      "\u001b[31m[19:34:42] src/tree/updater_prune.cc:74: tree pruning end, 1 roots, 26 extra nodes, 2 pruned nodes, max_depth=5\u001b[0m\n",
      "\u001b[31m[4]#011train-error:0.079001#011validation-error:0.077306\u001b[0m\n",
      "\u001b[31m[19:34:42] src/tree/updater_prune.cc:74: tree pruning end, 1 roots, 24 extra nodes, 0 pruned nodes, max_depth=5\u001b[0m\n",
      "\u001b[31m[5]#011train-error:0.074932#011validation-error:0.074593\u001b[0m\n",
      "\u001b[31m[19:34:42] src/tree/updater_prune.cc:74: tree pruning end, 1 roots, 20 extra nodes, 0 pruned nodes, max_depth=5\u001b[0m\n",
      "\u001b[31m[6]#011train-error:0.072672#011validation-error:0.071881\u001b[0m\n",
      "\u001b[31m[19:34:43] src/tree/updater_prune.cc:74: tree pruning end, 1 roots, 16 extra nodes, 0 pruned nodes, max_depth=5\u001b[0m\n",
      "\u001b[31m[7]#011train-error:0.074593#011validation-error:0.073689\u001b[0m\n",
      "\u001b[31m[19:34:43] src/tree/updater_prune.cc:74: tree pruning end, 1 roots, 26 extra nodes, 0 pruned nodes, max_depth=5\u001b[0m\n",
      "\u001b[31m[8]#011train-error:0.070298#011validation-error:0.072785\u001b[0m\n",
      "\u001b[31m[19:34:43] src/tree/updater_prune.cc:74: tree pruning end, 1 roots, 16 extra nodes, 4 pruned nodes, max_depth=5\u001b[0m\n",
      "\u001b[31m[9]#011train-error:0.068603#011validation-error:0.070524\u001b[0m\n",
      "\u001b[31m[19:34:43] src/tree/updater_prune.cc:74: tree pruning end, 1 roots, 14 extra nodes, 0 pruned nodes, max_depth=5\u001b[0m\n",
      "\u001b[31m[10]#011train-error:0.070298#011validation-error:0.072785\u001b[0m\n",
      "\u001b[31m[19:34:43] src/tree/updater_prune.cc:74: tree pruning end, 1 roots, 16 extra nodes, 0 pruned nodes, max_depth=5\u001b[0m\n",
      "\u001b[31m[11]#011train-error:0.068603#011validation-error:0.070072\u001b[0m\n",
      "\u001b[31m[19:34:43] src/tree/updater_prune.cc:74: tree pruning end, 1 roots, 18 extra nodes, 0 pruned nodes, max_depth=5\u001b[0m\n",
      "\u001b[31m[12]#011train-error:0.068829#011validation-error:0.06962\u001b[0m\n",
      "\u001b[31m[19:34:43] src/tree/updater_prune.cc:74: tree pruning end, 1 roots, 20 extra nodes, 2 pruned nodes, max_depth=5\u001b[0m\n",
      "\u001b[31m[13]#011train-error:0.064873#011validation-error:0.066456\u001b[0m\n",
      "\u001b[31m[19:34:43] src/tree/updater_prune.cc:74: tree pruning end, 1 roots, 22 extra nodes, 2 pruned nodes, max_depth=5\u001b[0m\n",
      "\u001b[31m[14]#011train-error:0.055493#011validation-error:0.057414\u001b[0m\n",
      "\u001b[31m[19:34:43] src/tree/updater_prune.cc:74: tree pruning end, 1 roots, 12 extra nodes, 0 pruned nodes, max_depth=5\u001b[0m\n",
      "\u001b[31m[15]#011train-error:0.055493#011validation-error:0.057414\u001b[0m\n",
      "\u001b[31m[19:34:43] src/tree/updater_prune.cc:74: tree pruning end, 1 roots, 26 extra nodes, 0 pruned nodes, max_depth=5\u001b[0m\n",
      "\u001b[31m[16]#011train-error:0.055493#011validation-error:0.057414\u001b[0m\n",
      "\u001b[31m[19:34:43] src/tree/updater_prune.cc:74: tree pruning end, 1 roots, 12 extra nodes, 0 pruned nodes, max_depth=5\u001b[0m\n",
      "\u001b[31m[17]#011train-error:0.053571#011validation-error:0.055606\u001b[0m\n",
      "\u001b[31m[19:34:43] src/tree/updater_prune.cc:74: tree pruning end, 1 roots, 14 extra nodes, 0 pruned nodes, max_depth=5\u001b[0m\n",
      "\u001b[31m[18]#011train-error:0.053571#011validation-error:0.055154\u001b[0m\n",
      "\u001b[31m[19:34:43] src/tree/updater_prune.cc:74: tree pruning end, 1 roots, 12 extra nodes, 0 pruned nodes, max_depth=5\u001b[0m\n",
      "\u001b[31m[19]#011train-error:0.053571#011validation-error:0.055154\u001b[0m\n",
      "\u001b[31m[19:34:43] src/tree/updater_prune.cc:74: tree pruning end, 1 roots, 12 extra nodes, 0 pruned nodes, max_depth=5\u001b[0m\n",
      "\u001b[31m[20]#011train-error:0.053571#011validation-error:0.055154\u001b[0m\n",
      "\u001b[31m[19:34:43] src/tree/updater_prune.cc:74: tree pruning end, 1 roots, 20 extra nodes, 0 pruned nodes, max_depth=5\u001b[0m\n",
      "\u001b[31m[21]#011train-error:0.05165#011validation-error:0.053797\u001b[0m\n",
      "\u001b[31m[19:34:43] src/tree/updater_prune.cc:74: tree pruning end, 1 roots, 12 extra nodes, 0 pruned nodes, max_depth=5\u001b[0m\n",
      "\u001b[31m[22]#011train-error:0.049955#011validation-error:0.051537\u001b[0m\n",
      "\u001b[31m[19:34:43] src/tree/updater_prune.cc:74: tree pruning end, 1 roots, 16 extra nodes, 0 pruned nodes, max_depth=5\u001b[0m\n",
      "\u001b[31m[23]#011train-error:0.048033#011validation-error:0.050181\u001b[0m\n",
      "\u001b[31m[19:34:43] src/tree/updater_prune.cc:74: tree pruning end, 1 roots, 14 extra nodes, 4 pruned nodes, max_depth=5\u001b[0m\n",
      "\u001b[31m[24]#011train-error:0.045999#011validation-error:0.048825\u001b[0m\n",
      "\u001b[31m[19:34:43] src/tree/updater_prune.cc:74: tree pruning end, 1 roots, 12 extra nodes, 0 pruned nodes, max_depth=5\u001b[0m\n",
      "\u001b[31m[25]#011train-error:0.042043#011validation-error:0.04566\u001b[0m\n",
      "\u001b[31m[19:34:43] src/tree/updater_prune.cc:74: tree pruning end, 1 roots, 10 extra nodes, 0 pruned nodes, max_depth=5\u001b[0m\n",
      "\u001b[31m[26]#011train-error:0.038992#011validation-error:0.040687\u001b[0m\n",
      "\u001b[31m[19:34:43] src/tree/updater_prune.cc:74: tree pruning end, 1 roots, 14 extra nodes, 0 pruned nodes, max_depth=5\u001b[0m\n",
      "\u001b[31m[27]#011train-error:0.038992#011validation-error:0.040687\u001b[0m\n",
      "\u001b[31m[19:34:43] src/tree/updater_prune.cc:74: tree pruning end, 1 roots, 14 extra nodes, 2 pruned nodes, max_depth=5\u001b[0m\n",
      "\u001b[31m[28]#011train-error:0.037297#011validation-error:0.037975\u001b[0m\n",
      "\u001b[31m[19:34:43] src/tree/updater_prune.cc:74: tree pruning end, 1 roots, 16 extra nodes, 0 pruned nodes, max_depth=5\u001b[0m\n",
      "\u001b[31m[29]#011train-error:0.037297#011validation-error:0.037975\u001b[0m\n",
      "\u001b[31m[19:34:43] src/tree/updater_prune.cc:74: tree pruning end, 1 roots, 10 extra nodes, 0 pruned nodes, max_depth=5\u001b[0m\n",
      "\u001b[31m[30]#011train-error:0.03741#011validation-error:0.037975\u001b[0m\n",
      "\u001b[31m[19:34:43] src/tree/updater_prune.cc:74: tree pruning end, 1 roots, 16 extra nodes, 0 pruned nodes, max_depth=5\u001b[0m\n",
      "\u001b[31m[31]#011train-error:0.035262#011validation-error:0.036618\u001b[0m\n",
      "\u001b[31m[19:34:43] src/tree/updater_prune.cc:74: tree pruning end, 1 roots, 22 extra nodes, 2 pruned nodes, max_depth=5\u001b[0m\n",
      "\u001b[31m[32]#011train-error:0.035262#011validation-error:0.036618\u001b[0m\n",
      "\u001b[31m[19:34:43] src/tree/updater_prune.cc:74: tree pruning end, 1 roots, 10 extra nodes, 0 pruned nodes, max_depth=5\u001b[0m\n",
      "\u001b[31m[33]#011train-error:0.035262#011validation-error:0.036618\u001b[0m\n",
      "\u001b[31m[19:34:43] src/tree/updater_prune.cc:74: tree pruning end, 1 roots, 14 extra nodes, 4 pruned nodes, max_depth=5\u001b[0m\n",
      "\u001b[31m[34]#011train-error:0.035262#011validation-error:0.036618\u001b[0m\n",
      "\u001b[31m[19:34:43] src/tree/updater_prune.cc:74: tree pruning end, 1 roots, 10 extra nodes, 0 pruned nodes, max_depth=5\u001b[0m\n",
      "\u001b[31m[35]#011train-error:0.035262#011validation-error:0.036618\u001b[0m\n",
      "\u001b[31m[19:34:43] src/tree/updater_prune.cc:74: tree pruning end, 1 roots, 14 extra nodes, 0 pruned nodes, max_depth=5\u001b[0m\n",
      "\u001b[31m[36]#011train-error:0.035262#011validation-error:0.036618\u001b[0m\n",
      "\u001b[31m[19:34:43] src/tree/updater_prune.cc:74: tree pruning end, 1 roots, 12 extra nodes, 2 pruned nodes, max_depth=5\u001b[0m\n",
      "\u001b[31m[37]#011train-error:0.035262#011validation-error:0.036618\u001b[0m\n",
      "\u001b[31m[19:34:43] src/tree/updater_prune.cc:74: tree pruning end, 1 roots, 12 extra nodes, 2 pruned nodes, max_depth=5\u001b[0m\n",
      "\u001b[31m[38]#011train-error:0.035262#011validation-error:0.036618\u001b[0m\n",
      "\u001b[31m[19:34:43] src/tree/updater_prune.cc:74: tree pruning end, 1 roots, 20 extra nodes, 2 pruned nodes, max_depth=5\u001b[0m\n",
      "\u001b[31m[39]#011train-error:0.035375#011validation-error:0.036618\u001b[0m\n",
      "\u001b[31m[19:34:43] src/tree/updater_prune.cc:74: tree pruning end, 1 roots, 12 extra nodes, 4 pruned nodes, max_depth=5\u001b[0m\n",
      "\u001b[31m[40]#011train-error:0.035375#011validation-error:0.036618\u001b[0m\n",
      "\u001b[31m[19:34:43] src/tree/updater_prune.cc:74: tree pruning end, 1 roots, 14 extra nodes, 2 pruned nodes, max_depth=5\u001b[0m\n",
      "\u001b[31m[41]#011train-error:0.035375#011validation-error:0.036618\u001b[0m\n",
      "\u001b[31m[19:34:43] src/tree/updater_prune.cc:74: tree pruning end, 1 roots, 12 extra nodes, 0 pruned nodes, max_depth=5\u001b[0m\n",
      "\u001b[31m[42]#011train-error:0.035262#011validation-error:0.036618\u001b[0m\n",
      "\u001b[31m[19:34:43] src/tree/updater_prune.cc:74: tree pruning end, 1 roots, 12 extra nodes, 2 pruned nodes, max_depth=5\u001b[0m\n",
      "\u001b[31m[43]#011train-error:0.035262#011validation-error:0.037071\u001b[0m\n",
      "\u001b[31m[19:34:43] src/tree/updater_prune.cc:74: tree pruning end, 1 roots, 10 extra nodes, 4 pruned nodes, max_depth=5\u001b[0m\n",
      "\u001b[31m[44]#011train-error:0.035262#011validation-error:0.037071\u001b[0m\n",
      "\u001b[31m[19:34:43] src/tree/updater_prune.cc:74: tree pruning end, 1 roots, 10 extra nodes, 2 pruned nodes, max_depth=5\u001b[0m\n",
      "\u001b[31m[45]#011train-error:0.035262#011validation-error:0.036618\u001b[0m\n",
      "\u001b[31m[19:34:43] src/tree/updater_prune.cc:74: tree pruning end, 1 roots, 10 extra nodes, 2 pruned nodes, max_depth=5\u001b[0m\n",
      "\u001b[31m[46]#011train-error:0.035262#011validation-error:0.036618\u001b[0m\n",
      "\u001b[31m[19:34:43] src/tree/updater_prune.cc:74: tree pruning end, 1 roots, 12 extra nodes, 0 pruned nodes, max_depth=5\u001b[0m\n",
      "\u001b[31m[47]#011train-error:0.035262#011validation-error:0.036618\u001b[0m\n",
      "\u001b[31m[19:34:43] src/tree/updater_prune.cc:74: tree pruning end, 1 roots, 10 extra nodes, 2 pruned nodes, max_depth=5\u001b[0m\n",
      "\u001b[31m[48]#011train-error:0.035262#011validation-error:0.036618\u001b[0m\n",
      "\u001b[31m[19:34:43] src/tree/updater_prune.cc:74: tree pruning end, 1 roots, 4 extra nodes, 10 pruned nodes, max_depth=2\u001b[0m\n",
      "\u001b[31m[49]#011train-error:0.035262#011validation-error:0.036618\u001b[0m\n",
      "\u001b[31m[19:34:43] src/tree/updater_prune.cc:74: tree pruning end, 1 roots, 8 extra nodes, 6 pruned nodes, max_depth=4\u001b[0m\n",
      "\u001b[31m[50]#011train-error:0.035262#011validation-error:0.036618\u001b[0m\n",
      "\u001b[31m[19:34:43] src/tree/updater_prune.cc:74: tree pruning end, 1 roots, 14 extra nodes, 2 pruned nodes, max_depth=4\u001b[0m\n",
      "\u001b[31m[51]#011train-error:0.035262#011validation-error:0.036618\u001b[0m\n",
      "\u001b[31m[19:34:43] src/tree/updater_prune.cc:74: tree pruning end, 1 roots, 10 extra nodes, 6 pruned nodes, max_depth=5\u001b[0m\n",
      "\u001b[31m[52]#011train-error:0.035262#011validation-error:0.036618\u001b[0m\n",
      "\u001b[31m[19:34:43] src/tree/updater_prune.cc:74: tree pruning end, 1 roots, 8 extra nodes, 2 pruned nodes, max_depth=4\u001b[0m\n",
      "\u001b[31m[53]#011train-error:0.035262#011validation-error:0.036618\u001b[0m\n",
      "\u001b[31m[19:34:43] src/tree/updater_prune.cc:74: tree pruning end, 1 roots, 12 extra nodes, 2 pruned nodes, max_depth=5\u001b[0m\n",
      "\u001b[31m[54]#011train-error:0.035262#011validation-error:0.036618\u001b[0m\n",
      "\u001b[31m[19:34:43] src/tree/updater_prune.cc:74: tree pruning end, 1 roots, 10 extra nodes, 2 pruned nodes, max_depth=5\u001b[0m\n",
      "\u001b[31m[55]#011train-error:0.035262#011validation-error:0.036618\u001b[0m\n",
      "\u001b[31m[19:34:43] src/tree/updater_prune.cc:74: tree pruning end, 1 roots, 10 extra nodes, 0 pruned nodes, max_depth=5\u001b[0m\n",
      "\u001b[31m[56]#011train-error:0.035262#011validation-error:0.036618\u001b[0m\n",
      "\u001b[31m[19:34:43] src/tree/updater_prune.cc:74: tree pruning end, 1 roots, 10 extra nodes, 0 pruned nodes, max_depth=5\u001b[0m\n",
      "\u001b[31m[57]#011train-error:0.035262#011validation-error:0.036618\u001b[0m\n",
      "\u001b[31m[19:34:43] src/tree/updater_prune.cc:74: tree pruning end, 1 roots, 0 extra nodes, 12 pruned nodes, max_depth=0\u001b[0m\n",
      "\u001b[31m[58]#011train-error:0.035262#011validation-error:0.036618\u001b[0m\n",
      "\u001b[31m[19:34:43] src/tree/updater_prune.cc:74: tree pruning end, 1 roots, 10 extra nodes, 6 pruned nodes, max_depth=3\u001b[0m\n",
      "\u001b[31m[59]#011train-error:0.035262#011validation-error:0.036618\u001b[0m\n",
      "\u001b[31m[19:34:43] src/tree/updater_prune.cc:74: tree pruning end, 1 roots, 12 extra nodes, 2 pruned nodes, max_depth=4\u001b[0m\n",
      "\u001b[31m[60]#011train-error:0.035262#011validation-error:0.036618\u001b[0m\n",
      "\u001b[31m[19:34:43] src/tree/updater_prune.cc:74: tree pruning end, 1 roots, 6 extra nodes, 8 pruned nodes, max_depth=3\u001b[0m\n",
      "\u001b[31m[61]#011train-error:0.035262#011validation-error:0.036618\u001b[0m\n",
      "\u001b[31m[19:34:43] src/tree/updater_prune.cc:74: tree pruning end, 1 roots, 8 extra nodes, 8 pruned nodes, max_depth=4\u001b[0m\n",
      "\u001b[31m[62]#011train-error:0.035262#011validation-error:0.036618\u001b[0m\n",
      "\u001b[31m[19:34:43] src/tree/updater_prune.cc:74: tree pruning end, 1 roots, 4 extra nodes, 8 pruned nodes, max_depth=2\u001b[0m\n",
      "\u001b[31m[63]#011train-error:0.035262#011validation-error:0.036618\u001b[0m\n",
      "\u001b[31m[19:34:43] src/tree/updater_prune.cc:74: tree pruning end, 1 roots, 0 extra nodes, 10 pruned nodes, max_depth=0\u001b[0m\n",
      "\u001b[31m[64]#011train-error:0.035262#011validation-error:0.036618\u001b[0m\n",
      "\u001b[31m[19:34:43] src/tree/updater_prune.cc:74: tree pruning end, 1 roots, 0 extra nodes, 10 pruned nodes, max_depth=0\u001b[0m\n",
      "\u001b[31m[65]#011train-error:0.035262#011validation-error:0.036618\u001b[0m\n",
      "\u001b[31m[19:34:43] src/tree/updater_prune.cc:74: tree pruning end, 1 roots, 6 extra nodes, 6 pruned nodes, max_depth=3\u001b[0m\n",
      "\u001b[31m[66]#011train-error:0.035262#011validation-error:0.036618\u001b[0m\n",
      "\u001b[31m[19:34:43] src/tree/updater_prune.cc:74: tree pruning end, 1 roots, 0 extra nodes, 12 pruned nodes, max_depth=0\u001b[0m\n",
      "\u001b[31m[67]#011train-error:0.035262#011validation-error:0.036618\u001b[0m\n",
      "\u001b[31m[19:34:43] src/tree/updater_prune.cc:74: tree pruning end, 1 roots, 0 extra nodes, 12 pruned nodes, max_depth=0\u001b[0m\n",
      "\u001b[31m[68]#011train-error:0.035262#011validation-error:0.036618\u001b[0m\n",
      "\u001b[31m[19:34:43] src/tree/updater_prune.cc:74: tree pruning end, 1 roots, 0 extra nodes, 10 pruned nodes, max_depth=0\u001b[0m\n",
      "\u001b[31m[69]#011train-error:0.035262#011validation-error:0.036618\u001b[0m\n",
      "\u001b[31m[19:34:43] src/tree/updater_prune.cc:74: tree pruning end, 1 roots, 0 extra nodes, 10 pruned nodes, max_depth=0\u001b[0m\n",
      "\u001b[31m[70]#011train-error:0.035262#011validation-error:0.036618\u001b[0m\n",
      "\u001b[31m[19:34:43] src/tree/updater_prune.cc:74: tree pruning end, 1 roots, 0 extra nodes, 10 pruned nodes, max_depth=0\u001b[0m\n",
      "\u001b[31m[71]#011train-error:0.035262#011validation-error:0.036618\u001b[0m\n",
      "\u001b[31m[19:34:43] src/tree/updater_prune.cc:74: tree pruning end, 1 roots, 8 extra nodes, 4 pruned nodes, max_depth=4\u001b[0m\n",
      "\u001b[31m[72]#011train-error:0.035262#011validation-error:0.036618\u001b[0m\n",
      "\u001b[31m[19:34:43] src/tree/updater_prune.cc:74: tree pruning end, 1 roots, 0 extra nodes, 12 pruned nodes, max_depth=0\u001b[0m\n",
      "\u001b[31m[73]#011train-error:0.035262#011validation-error:0.036618\u001b[0m\n",
      "\u001b[31m[19:34:43] src/tree/updater_prune.cc:74: tree pruning end, 1 roots, 0 extra nodes, 10 pruned nodes, max_depth=0\u001b[0m\n",
      "\u001b[31m[74]#011train-error:0.035262#011validation-error:0.036618\u001b[0m\n",
      "\u001b[31m[19:34:43] src/tree/updater_prune.cc:74: tree pruning end, 1 roots, 0 extra nodes, 10 pruned nodes, max_depth=0\u001b[0m\n",
      "\u001b[31m[75]#011train-error:0.035262#011validation-error:0.036618\u001b[0m\n",
      "\u001b[31m[19:34:43] src/tree/updater_prune.cc:74: tree pruning end, 1 roots, 0 extra nodes, 10 pruned nodes, max_depth=0\u001b[0m\n",
      "\u001b[31m[76]#011train-error:0.035262#011validation-error:0.036618\u001b[0m\n",
      "\u001b[31m[19:34:43] src/tree/updater_prune.cc:74: tree pruning end, 1 roots, 0 extra nodes, 10 pruned nodes, max_depth=0\u001b[0m\n",
      "\u001b[31m[77]#011train-error:0.035262#011validation-error:0.036618\u001b[0m\n",
      "\u001b[31m[19:34:43] src/tree/updater_prune.cc:74: tree pruning end, 1 roots, 0 extra nodes, 12 pruned nodes, max_depth=0\u001b[0m\n",
      "\u001b[31m[78]#011train-error:0.035262#011validation-error:0.036618\u001b[0m\n",
      "\u001b[31m[19:34:43] src/tree/updater_prune.cc:74: tree pruning end, 1 roots, 0 extra nodes, 10 pruned nodes, max_depth=0\u001b[0m\n",
      "\u001b[31m[79]#011train-error:0.035262#011validation-error:0.036618\u001b[0m\n",
      "\u001b[31m[19:34:43] src/tree/updater_prune.cc:74: tree pruning end, 1 roots, 0 extra nodes, 10 pruned nodes, max_depth=0\u001b[0m\n",
      "\u001b[31m[80]#011train-error:0.035262#011validation-error:0.036618\u001b[0m\n",
      "\u001b[31m[19:34:43] src/tree/updater_prune.cc:74: tree pruning end, 1 roots, 0 extra nodes, 10 pruned nodes, max_depth=0\u001b[0m\n",
      "\u001b[31m[81]#011train-error:0.035262#011validation-error:0.036618\u001b[0m\n",
      "\u001b[31m[19:34:43] src/tree/updater_prune.cc:74: tree pruning end, 1 roots, 0 extra nodes, 10 pruned nodes, max_depth=0\u001b[0m\n",
      "\u001b[31m[82]#011train-error:0.035262#011validation-error:0.036618\u001b[0m\n",
      "\u001b[31m[19:34:43] src/tree/updater_prune.cc:74: tree pruning end, 1 roots, 0 extra nodes, 10 pruned nodes, max_depth=0\u001b[0m\n",
      "\u001b[31m[83]#011train-error:0.035262#011validation-error:0.036618\u001b[0m\n",
      "\u001b[31m[19:34:43] src/tree/updater_prune.cc:74: tree pruning end, 1 roots, 10 extra nodes, 2 pruned nodes, max_depth=5\u001b[0m\n",
      "\u001b[31m[84]#011train-error:0.035262#011validation-error:0.036618\u001b[0m\n",
      "\u001b[31m[19:34:43] src/tree/updater_prune.cc:74: tree pruning end, 1 roots, 8 extra nodes, 8 pruned nodes, max_depth=4\u001b[0m\n",
      "\u001b[31m[85]#011train-error:0.035262#011validation-error:0.036618\u001b[0m\n",
      "\u001b[31m[19:34:43] src/tree/updater_prune.cc:74: tree pruning end, 1 roots, 0 extra nodes, 10 pruned nodes, max_depth=0\u001b[0m\n",
      "\u001b[31m[86]#011train-error:0.035262#011validation-error:0.036618\u001b[0m\n",
      "\u001b[31m[19:34:43] src/tree/updater_prune.cc:74: tree pruning end, 1 roots, 8 extra nodes, 2 pruned nodes, max_depth=4\u001b[0m\n",
      "\u001b[31m[87]#011train-error:0.035262#011validation-error:0.036618\u001b[0m\n",
      "\u001b[31m[19:34:43] src/tree/updater_prune.cc:74: tree pruning end, 1 roots, 0 extra nodes, 10 pruned nodes, max_depth=0\u001b[0m\n",
      "\u001b[31m[88]#011train-error:0.035262#011validation-error:0.036618\u001b[0m\n",
      "\u001b[31m[19:34:43] src/tree/updater_prune.cc:74: tree pruning end, 1 roots, 0 extra nodes, 10 pruned nodes, max_depth=0\u001b[0m\n",
      "\u001b[31m[89]#011train-error:0.035262#011validation-error:0.036618\u001b[0m\n",
      "\u001b[31m[19:34:43] src/tree/updater_prune.cc:74: tree pruning end, 1 roots, 0 extra nodes, 10 pruned nodes, max_depth=0\u001b[0m\n",
      "\u001b[31m[90]#011train-error:0.035262#011validation-error:0.036618\u001b[0m\n",
      "\u001b[31m[19:34:43] src/tree/updater_prune.cc:74: tree pruning end, 1 roots, 0 extra nodes, 18 pruned nodes, max_depth=0\u001b[0m\n",
      "\u001b[31m[91]#011train-error:0.035262#011validation-error:0.036618\u001b[0m\n",
      "\u001b[31m[19:34:43] src/tree/updater_prune.cc:74: tree pruning end, 1 roots, 0 extra nodes, 12 pruned nodes, max_depth=0\u001b[0m\n",
      "\u001b[31m[92]#011train-error:0.035262#011validation-error:0.036618\u001b[0m\n",
      "\u001b[31m[19:34:43] src/tree/updater_prune.cc:74: tree pruning end, 1 roots, 0 extra nodes, 18 pruned nodes, max_depth=0\u001b[0m\n",
      "\u001b[31m[93]#011train-error:0.035262#011validation-error:0.036618\u001b[0m\n",
      "\u001b[31m[19:34:43] src/tree/updater_prune.cc:74: tree pruning end, 1 roots, 0 extra nodes, 12 pruned nodes, max_depth=0\u001b[0m\n",
      "\u001b[31m[94]#011train-error:0.035262#011validation-error:0.036618\u001b[0m\n",
      "\u001b[31m[19:34:43] src/tree/updater_prune.cc:74: tree pruning end, 1 roots, 0 extra nodes, 10 pruned nodes, max_depth=0\u001b[0m\n",
      "\u001b[31m[95]#011train-error:0.035262#011validation-error:0.036618\u001b[0m\n",
      "\u001b[31m[19:34:43] src/tree/updater_prune.cc:74: tree pruning end, 1 roots, 0 extra nodes, 12 pruned nodes, max_depth=0\u001b[0m\n",
      "\u001b[31m[96]#011train-error:0.035262#011validation-error:0.036618\u001b[0m\n",
      "\u001b[31m[19:34:43] src/tree/updater_prune.cc:74: tree pruning end, 1 roots, 8 extra nodes, 10 pruned nodes, max_depth=4\u001b[0m\n",
      "\u001b[31m[97]#011train-error:0.035262#011validation-error:0.036618\u001b[0m\n",
      "\u001b[31m[19:34:43] src/tree/updater_prune.cc:74: tree pruning end, 1 roots, 0 extra nodes, 12 pruned nodes, max_depth=0\u001b[0m\n",
      "\u001b[31m[98]#011train-error:0.035262#011validation-error:0.036618\u001b[0m\n",
      "\u001b[31m[19:34:43] src/tree/updater_prune.cc:74: tree pruning end, 1 roots, 0 extra nodes, 12 pruned nodes, max_depth=0\u001b[0m\n",
      "\u001b[31m[99]#011train-error:0.035262#011validation-error:0.036618\u001b[0m\n"
     ]
    },
    {
     "name": "stdout",
     "output_type": "stream",
     "text": [
      "\n",
      "2019-09-27 19:34:54 Uploading - Uploading generated training model\n",
      "2019-09-27 19:34:54 Completed - Training job completed\n",
      "Billable seconds: 48\n",
      "CPU times: user 413 ms, sys: 24.5 ms, total: 438 ms\n",
      "Wall time: 3min 12s\n"
     ]
    }
   ],
   "source": [
    "%%time\n",
    "xgb = sagemaker.estimator.Estimator(container,\n",
    "                                    role, \n",
    "                                    train_instance_count=1, \n",
    "                                    train_instance_type='ml.c4.8xlarge',\n",
    "                                    output_path=xgb_upload_location,\n",
    "                                    sagemaker_session=sagemaker_session)\n",
    "xgb.set_hyperparameters(max_depth=5,\n",
    "                        eta=0.2,\n",
    "                        gamma=4,\n",
    "                        min_child_weight=6,\n",
    "                        subsample=0.8,\n",
    "                        silent=0,\n",
    "                        objective='binary:logistic',\n",
    "                        num_round=100)\n",
    "\n",
    "xgb.fit({'train': s3_train_channel, 'validation': s3_valid_channel})"
   ]
  },
  {
   "cell_type": "markdown",
   "metadata": {},
   "source": [
    "<h2> Model deployment and predictions"
   ]
  },
  {
   "cell_type": "markdown",
   "metadata": {},
   "source": [
    "There are several options to deploy the model:\n",
    "\n",
    "1. Live Endpoint: this approach is suitable for low latency inference against live data in the cloud. Since we want to make inferences in our factory environment, we don't choose this option. <br/>\n",
    "\n",
    "\n",
    "2. Batch Transform: to test out our model accuracy, we run inferences against some test data. As our dataset is small, the test set here is just the training set + validation set. In reality, this should be completely unseen data, but this will suffice for our MVP. <br/>\n",
    "\n",
    "\n",
    "3. Deploy on Greengrass: Instead of deploying a live endpoint in the AWS Cloud, we will deploy the model locally on our Greengrass core. Follow the steps in the lab to accomplish this. <br/>"
   ]
  },
  {
   "cell_type": "markdown",
   "metadata": {},
   "source": [
    "<h2> Batch Transform "
   ]
  },
  {
   "cell_type": "markdown",
   "metadata": {},
   "source": [
    "Instead of deploying a live endpoint, let's run a Batch Transform job to test the model accuracy and other metrics on the entire dataset. This dataset is saved locally, so we need to first port it over to S3.\n",
    "\n",
    "\n",
    "Once the dataset is in S3, we can call SageMaker Batch Transform to perform inference on the entire dataset and save the output to file"
   ]
  },
  {
   "cell_type": "code",
   "execution_count": 53,
   "metadata": {},
   "outputs": [],
   "source": [
    "# drop the Response column from the dataset.\n",
    "test_set = pd.read_csv('mbdataset.csv')\n",
    "resp = test_set['0']\n",
    "test_set = test_set.drop(columns = ['0'])\n",
    "test_set.to_csv('test.csv', index =False, header = False)"
   ]
  },
  {
   "cell_type": "code",
   "execution_count": 54,
   "metadata": {},
   "outputs": [
    {
     "data": {
      "text/plain": [
       "'s3://iot-ml-predictive-maintenance/xgbdata/test/test.csv'"
      ]
     },
     "execution_count": 54,
     "metadata": {},
     "output_type": "execute_result"
    }
   ],
   "source": [
    "test_channel = prefix + '/test'\n",
    "sagemaker_session.upload_data('test.csv', bucket=bucket, key_prefix=test_channel)"
   ]
  },
  {
   "cell_type": "markdown",
   "metadata": {},
   "source": [
    "Run the batch transform job. Specify the input file location and point batch transform to a path for storing the model outputs."
   ]
  },
  {
   "cell_type": "code",
   "execution_count": 56,
   "metadata": {},
   "outputs": [
    {
     "name": "stdout",
     "output_type": "stream",
     "text": [
      ".............................................*\n",
      "CPU times: user 235 ms, sys: 9.74 ms, total: 245 ms\n",
      "Wall time: 3min 46s\n"
     ]
    }
   ],
   "source": [
    "%%time\n",
    "batch_input = 's3://{}/{}'.format(bucket, test_channel) # The location of the test dataset\n",
    "\n",
    "batch_output = 's3://{}/{}/batch-inference'.format(bucket, test_channel) # The location to store the results of the batch transform job\n",
    "\n",
    "transformer = xgb.transformer(instance_count=1, instance_type='ml.m4.xlarge', output_path=batch_output)\n",
    "\n",
    "transformer.transform(data=batch_input, data_type='S3Prefix', content_type='text/csv', split_type='Line')\n",
    "\n",
    "try:\n",
    "    transformer.wait()\n",
    "except Exception as e:\n",
    "    pass"
   ]
  },
  {
   "cell_type": "code",
   "execution_count": 57,
   "metadata": {},
   "outputs": [
    {
     "name": "stdout",
     "output_type": "stream",
     "text": [
      "Completed 169.8 KiB/169.8 KiB (2.3 MiB/s) with 1 file(s) remaining\r",
      "download: s3://iot-ml-predictive-maintenance/xgbdata/test/batch-inference/test.csv.out to data/inference/test.csv.out\r\n"
     ]
    }
   ],
   "source": [
    "data_dir = './data/inference'\n",
    "if not os.path.exists(data_dir):\n",
    "    os.makedirs(data_dir)\n",
    "\n",
    "!aws s3 cp --recursive $transformer.output_path $data_dir"
   ]
  },
  {
   "cell_type": "code",
   "execution_count": 59,
   "metadata": {},
   "outputs": [],
   "source": [
    "y_test = pd.read_csv(os.path.join(data_dir, 'test.csv.out'), header=None)\n",
    "y_vals = np.round(y_test.values)"
   ]
  },
  {
   "cell_type": "markdown",
   "metadata": {},
   "source": [
    "## Metrics and economics\n",
    "\n",
    "Lets get some model metrics.\n",
    "\n",
    "From a business perspective, we need to consider more than just the model accuracy but let's get that first.\n",
    "\n",
    "Two other metrics to look at are precision and recall. How do these manifest themselves in IoT Predictive maintenance?\n",
    "\n",
    "Precision is a measure of the number of false positives. High precision indicates low false positives. The added cost of high false positives is that the factory engineers and workers have to spend time and money troubleshooting and performing maintenance when its not required.\n",
    "\n",
    "Imagine the other situation: if the part is actually in need of maintenance and our model predicts that it is fine. \n",
    "In IoT settings, particularly in heavy industries, a large cost is incurred when there is \"unexpected downtime\". Especially for mission critical equipment, this can shut down the entire site. A high recall score (low false negatives) will help minimize this as it will ensure that when a part *is* in need of maintenance, it is flagged.\n",
    "\n",
    "An understanding of precision and recall must be tied in with the economics of the particular use case. "
   ]
  },
  {
   "cell_type": "code",
   "execution_count": 60,
   "metadata": {},
   "outputs": [],
   "source": [
    "from sklearn.metrics import accuracy_score, confusion_matrix, classification_report"
   ]
  },
  {
   "cell_type": "code",
   "execution_count": 61,
   "metadata": {},
   "outputs": [
    {
     "name": "stdout",
     "output_type": "stream",
     "text": [
      "Model Accuracy = 96.44633330319196 %\n"
     ]
    }
   ],
   "source": [
    "print(\"Model Accuracy = {} %\".format(accuracy_score(resp.values, y_vals)*100))"
   ]
  },
  {
   "cell_type": "code",
   "execution_count": 62,
   "metadata": {},
   "outputs": [
    {
     "name": "stdout",
     "output_type": "stream",
     "text": [
      "              precision    recall  f1-score   support\n",
      "\n",
      "           0       0.96      1.00      0.98      9946\n",
      "           1       0.98      0.66      0.79      1113\n",
      "\n",
      "   micro avg       0.96      0.96      0.96     11059\n",
      "   macro avg       0.97      0.83      0.88     11059\n",
      "weighted avg       0.97      0.96      0.96     11059\n",
      "\n"
     ]
    }
   ],
   "source": [
    "print(classification_report(resp.values, y_vals))"
   ]
  },
  {
   "cell_type": "code",
   "execution_count": 75,
   "metadata": {},
   "outputs": [
    {
     "name": "stdout",
     "output_type": "stream",
     "text": [
      "Confusion matrix, without normalization\n",
      "[[9931   15]\n",
      " [ 378  735]]\n"
     ]
    },
    {
     "data": {
      "image/png": "[encoded data removed]",
      "text/plain": [
       "<Figure size 576x576 with 2 Axes>"
      ]
     },
     "metadata": {},
     "output_type": "display_data"
    }
   ],
   "source": [
    "def plot_confusion_matrix(y_true, y_pred, classes,\n",
    "                          normalize=False,\n",
    "                          title=None,\n",
    "                          cmap=plt.cm.Blues):\n",
    "    \"\"\"\n",
    "    This function prints and plots the confusion matrix.\n",
    "    Normalization can be applied by setting `normalize=True`.\n",
    "    \"\"\"\n",
    "    if not title:\n",
    "        if normalize:\n",
    "            title = 'Normalized confusion matrix'\n",
    "        else:\n",
    "            title = 'Confusion matrix, without normalization'\n",
    "\n",
    "    # Compute confusion matrix\n",
    "    cm = confusion_matrix(y_true, y_pred)\n",
    "    # Only use the labels that appear in the data\n",
    "    classes = classes\n",
    "    if normalize:\n",
    "        cm = cm.astype('float') / cm.sum(axis=1)[:, np.newaxis]\n",
    "        print(\"Normalized confusion matrix\")\n",
    "    else:\n",
    "        print('Confusion matrix, without normalization')\n",
    "\n",
    "    print(cm)\n",
    "\n",
    "    fig, ax = plt.subplots(figsize = (8, 8))\n",
    "    im = ax.imshow(cm, interpolation='nearest', cmap=cmap)\n",
    "    ax.figure.colorbar(im, ax=ax)\n",
    "    # We want to show all ticks...\n",
    "    ax.set(xticks=np.arange(cm.shape[1]),\n",
    "           yticks=np.arange(cm.shape[0]),\n",
    "     # ... and label them with the respective list entries\n",
    "           xticklabels=classes, yticklabels=classes)\n",
    "    plt.tick_params(labelsize=15)  \n",
    "    plt.xlabel('Predicted label', fontsize=18)\n",
    "    plt.ylabel('True label',fontsize =18)\n",
    "    plt.title(title, fontsize=18)\n",
    "    # Rotate the tick labels and set their alignment.\n",
    "    plt.setp(ax.get_xticklabels(), rotation=45, ha=\"right\",\n",
    "             rotation_mode=\"anchor\")\n",
    "\n",
    "    # Loop over data dimensions and create text annotations.\n",
    "    fmt = '.2f' if normalize else 'd'\n",
    "    thresh = cm.max() / 2.\n",
    "    for i in range(cm.shape[0]):\n",
    "        for j in range(cm.shape[1]):\n",
    "            ax.text(j, i, format(cm[i, j], fmt),\n",
    "                    ha=\"center\", va=\"center\", fontsize=20,\n",
    "                    color=\"white\" if cm[i, j] > thresh else \"black\")\n",
    "    fig.tight_layout()\n",
    "    return ax\n",
    "\n",
    "\n",
    "np.set_printoptions(precision=2)\n",
    "\n",
    "# Plot non-normalized confusion matrix\n",
    "plot_confusion_matrix(resp.values, y_vals, classes=['Normal', 'Faulty'],\n",
    "                      title='Confusion matrix, without normalization')\n",
    "\n",
    "# Plot normalized confusion matrix\n",
    "plt.show()"
   ]
  },
  {
   "cell_type": "markdown",
   "metadata": {},
   "source": [
    "Our model is not perfect but does 6% better than the naive model with 90% accuracy. What this means is that although the model still misses some examples of faulty labels, it correctly captures a large number of them that the naive model would not be able to.\n",
    "\n",
    "We can now deploy this model on to Greengrass.\n",
    "\n",
    "Go back to the predictive maintenance tutorial to continue building out this use case"
   ]
  },
  {
   "cell_type": "code",
   "execution_count": null,
   "metadata": {},
   "outputs": [],
   "source": []
  }
 ],
 "metadata": {
  "kernelspec": {
   "display_name": "conda_python3",
   "language": "python",
   "name": "conda_python3"
  },
  "language_info": {
   "codemirror_mode": {
    "name": "ipython",
    "version": 3
   },
   "file_extension": ".py",
   "mimetype": "text/x-python",
   "name": "python",
   "nbconvert_exporter": "python",
   "pygments_lexer": "ipython3",
   "version": "3.6.5"
  }
 },
 "nbformat": 4,
 "nbformat_minor": 2
}
